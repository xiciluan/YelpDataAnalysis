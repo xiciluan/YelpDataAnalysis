{
 "cells": [
  {
   "cell_type": "code",
   "execution_count": 1,
   "metadata": {},
   "outputs": [
    {
     "name": "stdout",
     "output_type": "stream",
     "text": [
      "[nltk_data] Downloading package punkt to\n",
      "[nltk_data]     C:\\Users\\yhlan\\AppData\\Roaming\\nltk_data...\n",
      "[nltk_data]   Package punkt is already up-to-date!\n",
      "[nltk_data] Downloading package stopwords to\n",
      "[nltk_data]     C:\\Users\\yhlan\\AppData\\Roaming\\nltk_data...\n",
      "[nltk_data]   Package stopwords is already up-to-date!\n",
      "[nltk_data] Downloading package wordnet to\n",
      "[nltk_data]     C:\\Users\\yhlan\\AppData\\Roaming\\nltk_data...\n",
      "[nltk_data]   Package wordnet is already up-to-date!\n"
     ]
    }
   ],
   "source": [
    "import pandas as pd \n",
    "import numpy as np\n",
    "import re\n",
    "from nltk.corpus import stopwords \n",
    "from nltk.tokenize import word_tokenize \n",
    "import nltk\n",
    "nltk.download('punkt')\n",
    "nltk.download('stopwords')\n",
    "nltk.download('wordnet')\n",
    "from nltk.stem.wordnet import WordNetLemmatizer"
   ]
  },
  {
   "cell_type": "code",
   "execution_count": 2,
   "metadata": {},
   "outputs": [],
   "source": [
    "#do not print warnings\n",
    "pd.options.mode.chained_assignment = None"
   ]
  },
  {
   "cell_type": "code",
   "execution_count": 3,
   "metadata": {},
   "outputs": [],
   "source": [
    "#remove \"no\" and \"not\" from the stopwords\n",
    "stop_words = set(stopwords.words('english'))\n",
    "stop_words.remove(\"no\")\n",
    "stop_words.remove(\"not\")\n",
    "stop_words.add(\"im\")\n",
    "stop_words.add(\"seem\")\n",
    "stop_words.add(\"u\")\n",
    "stop_words.add(\"ca\")"
   ]
  },
  {
   "cell_type": "code",
   "execution_count": 4,
   "metadata": {},
   "outputs": [],
   "source": [
    "reviews = pd.read_csv(\"review_select.csv\")\n",
    "reviews_text = reviews.loc[:,\"text\"]"
   ]
  },
  {
   "cell_type": "markdown",
   "metadata": {},
   "source": [
    "**Data cleaning**\n",
    "0. lower all the letters.\n",
    "1. change \"n't\" to \" not\".\n",
    "2. remove all the symbols except letters. \n",
    "3. remove all the stopwords. (should we keep the \"not sth\"?Yes, keep \"no\" and \"not\")\n",
    "4. normalize the verb and noun ."
   ]
  },
  {
   "cell_type": "code",
   "execution_count": 5,
   "metadata": {},
   "outputs": [],
   "source": [
    "lemmatizer = WordNetLemmatizer() \n",
    "\n",
    "def data_clean(review):\n",
    "    #lower all the letters\n",
    "    review = review.lower()\n",
    "    #change \"n't\" to \" not\"\n",
    "    review = re.sub(\"\\n\",\"\",review)\n",
    "    review = re.sub(\"n't\",\" not\",review)\n",
    "    review = re.sub(\"n'\",\" not\",review)\n",
    "    #remove all the symbols but letters\n",
    "    review = re.sub(\"[^a-zA-Z]\",\" \",review)\n",
    "    #remove all the stopwords except \"no\" and \"not\"\n",
    "    review_words = word_tokenize(review)\n",
    "    filtered_review = [w for w in review_words if not w in stop_words]\n",
    "    #normalize the verb and noun \n",
    "    normalized_review = [lemmatizer.lemmatize(w,\"v\") for w in filtered_review]\n",
    "    return \" \".join(normalized_review)"
   ]
  },
  {
   "cell_type": "markdown",
   "metadata": {},
   "source": [
    "We randomly chose 20,000 reviews as a sample of our whole dataset. The sampled dataset has very similar distribution of stars as the original dataset. (see the plots below)"
   ]
  },
  {
   "cell_type": "code",
   "execution_count": 6,
   "metadata": {},
   "outputs": [],
   "source": [
    "import random\n",
    "review_2w_index=random.sample(range(len(reviews_text)),20000)\n",
    "review_2w = reviews_text[review_2w_index]\n",
    "\n",
    "#use data_clean() to normalize the text\n",
    "review_2w_clean=[]\n",
    "for i in range(len(review_2w)):\n",
    "    review_2w_clean.append(data_clean(list(review_2w)[i]))\n",
    "\n",
    "stars = reviews.loc[:,\"stars\"]\n",
    "stars_2w = stars[review_2w_index]"
   ]
  },
  {
   "cell_type": "code",
   "execution_count": 34,
   "metadata": {},
   "outputs": [],
   "source": [
    "#save\n",
    "review_2w_save=pd.DataFrame(review_2w_clean,columns=['text'])\n",
    "stars_2w_save=pd.DataFrame(stars_2w,columns=['stars'])\n",
    "\n",
    "data_save = pd.concat([review_2w_save,stars_2w_save],axis=1)\n",
    "\n",
    "data_save.to_csv('reviews_clean_2w.csv', sep=',', header=True, index=True)"
   ]
  },
  {
   "cell_type": "code",
   "execution_count": 7,
   "metadata": {},
   "outputs": [],
   "source": [
    "import matplotlib.pyplot as plt\n",
    "\n",
    "num_of_stars=(sum(stars == 1.0),sum(stars == 2.0),sum(stars == 3.0),sum(stars == 4.0),sum(stars == 5.0))\n",
    "num_of_stars_2w=(sum(stars_2w == 1.0),sum(stars_2w == 2.0),sum(stars_2w == 3.0),sum(stars_2w == 4.0),sum(stars_2w == 5.0))"
   ]
  },
  {
   "cell_type": "code",
   "execution_count": 8,
   "metadata": {},
   "outputs": [
    {
     "data": {
      "text/plain": [
       "<function matplotlib.pyplot.show(*args, **kw)>"
      ]
     },
     "execution_count": 8,
     "metadata": {},
     "output_type": "execute_result"
    },
    {
     "data": {
      "image/png": "[encoded data removed]",
      "text/plain": [
       "<Figure size 432x288 with 1 Axes>"
      ]
     },
     "metadata": {
      "needs_background": "light"
     },
     "output_type": "display_data"
    }
   ],
   "source": [
    "plt.bar([1,2,3,4,5],num_of_stars)\n",
    "plt.ylabel('number of reviews')\n",
    "plt.xlabel('stars')\n",
    "plt.title('whole dataset')\n",
    "plt.show"
   ]
  },
  {
   "cell_type": "code",
   "execution_count": 9,
   "metadata": {},
   "outputs": [
    {
     "data": {
      "text/plain": [
       "<function matplotlib.pyplot.show(*args, **kw)>"
      ]
     },
     "execution_count": 9,
     "metadata": {},
     "output_type": "execute_result"
    },
    {
     "data": {
      "image/png": "[encoded data removed]",
      "text/plain": [
       "<Figure size 432x288 with 1 Axes>"
      ]
     },
     "metadata": {
      "needs_background": "light"
     },
     "output_type": "display_data"
    }
   ],
   "source": [
    "plt.bar([1,2,3,4,5],num_of_stars_2w)\n",
    "plt.ylabel('number of reviews')\n",
    "plt.xlabel('stars')\n",
    "plt.title('20,000 sample')\n",
    "plt.show"
   ]
  },
  {
   "cell_type": "code",
   "execution_count": 10,
   "metadata": {},
   "outputs": [],
   "source": [
    "review_2w_new=review_2w_clean\n",
    "review_2w_new=pd.Series(review_2w_new)\n",
    "stars_2w=pd.Series(list(stars_2w))"
   ]
  },
  {
   "cell_type": "code",
   "execution_count": 11,
   "metadata": {},
   "outputs": [],
   "source": [
    "def ratings_of_word(word):\n",
    "    ratings = [0,0,0,0,0]\n",
    "    numerator = [0,0,0,0,0]\n",
    "    denominator = [sum(stars_2w == 1.0),sum(stars_2w == 2.0),sum(stars_2w == 3.0),sum(stars_2w == 4.0),sum(stars_2w == 5.0)]\n",
    "    \n",
    "    for j in range(5):\n",
    "        j_star=review_2w_new[stars_2w == j+1]\n",
    "        for i in range(len(j_star)):\n",
    "            numerator[j] += list(j_star)[i].split().count(word)/len(list(j_star)[i].split())\n",
    "        ratings[j] = numerator[j]/denominator[j] \n",
    "    \n",
    "    return ratings"
   ]
  },
  {
   "cell_type": "code",
   "execution_count": 12,
   "metadata": {},
   "outputs": [],
   "source": [
    "#ratings=ratings_of_word(\"fantastic\")"
   ]
  },
  {
   "cell_type": "code",
   "execution_count": 13,
   "metadata": {},
   "outputs": [],
   "source": [
    "def plot_word_star(ratings,word):\n",
    "    plt.bar([1,2,3,4,5],ratings)\n",
    "    plt.xlabel('stars')\n",
    "    plt.ylabel('scores')\n",
    "    plt.title(word)\n",
    "    plt.show"
   ]
  },
  {
   "cell_type": "code",
   "execution_count": 14,
   "metadata": {},
   "outputs": [],
   "source": [
    "#plot_word_star(ratings,\"fantastic\")"
   ]
  },
  {
   "cell_type": "markdown",
   "metadata": {},
   "source": [
    "**Testing if the algorithm is correct with words showing attitudes**\n",
    "\n",
    "positive: fantastic, perfect, good    \n",
    "negative: terrible, awful, bad\n",
    "\n",
    "Since the positive words had very obvious positive trend, and negative words had obvious negative trend, we believed that our algorithm to calculate the score of words was correct."
   ]
  },
  {
   "cell_type": "code",
   "execution_count": 15,
   "metadata": {},
   "outputs": [
    {
     "data": {
      "text/plain": [
       "<function matplotlib.pyplot.show(*args, **kw)>"
      ]
     },
     "execution_count": 15,
     "metadata": {},
     "output_type": "execute_result"
    },
    {
     "data": {
      "image/png": "[encoded data removed]",
      "text/plain": [
       "<Figure size 432x288 with 6 Axes>"
      ]
     },
     "metadata": {
      "needs_background": "light"
     },
     "output_type": "display_data"
    }
   ],
   "source": [
    "plt.figure(123456)\n",
    "\n",
    "plt.subplot(231)\n",
    "plot_word_star(ratings_of_word(\"fantastic\"),\"fantastic\")\n",
    "\n",
    "plt.subplot(232)\n",
    "plot_word_star(ratings_of_word(\"perfect\"),\"perfect\")\n",
    "\n",
    "plt.subplot(233)\n",
    "plot_word_star(ratings_of_word(\"good\"),\"good\")\n",
    "\n",
    "plt.subplot(234)\n",
    "plot_word_star(ratings_of_word(\"terrible\"),\"terrible\")\n",
    "\n",
    "plt.subplot(235)\n",
    "plot_word_star(ratings_of_word(\"awful\"),\"awful\")\n",
    "\n",
    "plt.subplot(236)\n",
    "plot_word_star(ratings_of_word(\"bad\"),\"bad\")\n",
    "\n",
    "plt.tight_layout()\n",
    "plt.show"
   ]
  },
  {
   "cell_type": "markdown",
   "metadata": {},
   "source": [
    "**Food**"
   ]
  },
  {
   "cell_type": "code",
   "execution_count": 19,
   "metadata": {},
   "outputs": [
    {
     "data": {
      "text/plain": [
       "<function matplotlib.pyplot.show(*args, **kw)>"
      ]
     },
     "execution_count": 19,
     "metadata": {},
     "output_type": "execute_result"
    },
    {
     "data": {
      "image/png": "[encoded data removed]",
      "text/plain": [
       "<Figure size 432x288 with 6 Axes>"
      ]
     },
     "metadata": {
      "needs_background": "light"
     },
     "output_type": "display_data"
    }
   ],
   "source": [
    "plt.figure(123456)\n",
    "\n",
    "plt.subplot(231)\n",
    "plot_word_star(ratings_of_word(\"cheeseburger\"),\"cheeseburger\")\n",
    "\n",
    "plt.subplot(232)\n",
    "plot_word_star(ratings_of_word(\"hamburger\"),\"hamburger\")\n",
    "\n",
    "plt.subplot(233)\n",
    "plot_word_star(ratings_of_word(\"gluten\"),\"gluten\")\n",
    "\n",
    "plt.subplot(234)\n",
    "plot_word_star(ratings_of_word(\"soda\"),\"soda\")\n",
    "\n",
    "plt.subplot(235)\n",
    "plot_word_star(ratings_of_word(\"meat\"),\"meat\")\n",
    "\n",
    "plt.subplot(236)\n",
    "plot_word_star(ratings_of_word(\"vegetable\"),\"vegetable\")\n",
    "\n",
    "plt.tight_layout()\n",
    "plt.show"
   ]
  },
  {
   "cell_type": "markdown",
   "metadata": {},
   "source": [
    "**Service**"
   ]
  },
  {
   "cell_type": "code",
   "execution_count": 17,
   "metadata": {},
   "outputs": [
    {
     "data": {
      "text/plain": [
       "<function matplotlib.pyplot.show(*args, **kw)>"
      ]
     },
     "execution_count": 17,
     "metadata": {},
     "output_type": "execute_result"
    },
    {
     "data": {
      "image/png": "[encoded data removed]",
      "text/plain": [
       "<Figure size 432x288 with 6 Axes>"
      ]
     },
     "metadata": {
      "needs_background": "light"
     },
     "output_type": "display_data"
    }
   ],
   "source": [
    "plt.figure(123456)\n",
    "\n",
    "plt.subplot(231)\n",
    "plot_word_star(ratings_of_word(\"staff\"),\"staff\")\n",
    "\n",
    "plt.subplot(232)\n",
    "plot_word_star(ratings_of_word(\"menu\"),\"menu\")\n",
    "\n",
    "plt.subplot(233)\n",
    "plot_word_star(ratings_of_word(\"wait\"),\"wait\")\n",
    "\n",
    "plt.subplot(234)\n",
    "plot_word_star(ratings_of_word(\"fast\"),\"fast\")\n",
    "\n",
    "plt.subplot(235)\n",
    "plot_word_star(ratings_of_word(\"slow\"),\"slow\")\n",
    "\n",
    "plt.subplot(236)\n",
    "plot_word_star(ratings_of_word(\"fresh\"),\"fresh\")\n",
    "\n",
    "plt.tight_layout()\n",
    "plt.show"
   ]
  },
  {
   "cell_type": "markdown",
   "metadata": {},
   "source": [
    "**Brand**"
   ]
  },
  {
   "cell_type": "code",
   "execution_count": 18,
   "metadata": {},
   "outputs": [
    {
     "data": {
      "text/plain": [
       "<function matplotlib.pyplot.show(*args, **kw)>"
      ]
     },
     "execution_count": 18,
     "metadata": {},
     "output_type": "execute_result"
    },
    {
     "data": {
      "image/png": "[encoded data removed]",
      "text/plain": [
       "<Figure size 432x288 with 6 Axes>"
      ]
     },
     "metadata": {
      "needs_background": "light"
     },
     "output_type": "display_data"
    }
   ],
   "source": [
    "plt.figure(123456)\n",
    "\n",
    "plt.subplot(231)\n",
    "plot_word_star(ratings_of_word(\"mcdonalds\"),\"mcdonalds\")\n",
    "\n",
    "plt.subplot(232)\n",
    "plot_word_star(ratings_of_word(\"kfc\"),\"kfc\")\n",
    "\n",
    "plt.subplot(233)\n",
    "plot_word_star(ratings_of_word(\"subway\"),\"subway\")\n",
    "\n",
    "plt.subplot(234)\n",
    "plot_word_star(ratings_of_word(\"chipotle\"),\"chipotle\")\n",
    "\n",
    "plt.subplot(235)\n",
    "plot_word_star(ratings_of_word(\"cinnabon\"),\"cinnabon\")\n",
    "\n",
    "plt.subplot(236)\n",
    "plot_word_star(ratings_of_word(\"domino\"),\"domino\")\n",
    "\n",
    "plt.tight_layout()\n",
    "plt.show"
   ]
  },
  {
   "cell_type": "markdown",
   "metadata": {},
   "source": [
    "**Problems:**\n",
    "1. Since the codes ran slowly, we did not carry the splitting of bigram and trigram. Thus the adjectives and brands names with more than one words were not included. \n",
    "2. In the step of \"normalized\" the verbs, some of adjectives are transformed by accident. And their meaning were changed completely. For example, \"I am thrilled.\" might change to \"I am thrill.\"."
   ]
  }
 ],
 "metadata": {
  "kernelspec": {
   "display_name": "Python 3",
   "language": "python",
   "name": "python3"
  },
  "language_info": {
   "codemirror_mode": {
    "name": "ipython",
    "version": 3
   },
   "file_extension": ".py",
   "mimetype": "text/x-python",
   "name": "python",
   "nbconvert_exporter": "python",
   "pygments_lexer": "ipython3",
   "version": "3.7.0"
  }
 },
 "nbformat": 4,
 "nbformat_minor": 2
}
