{
 "cells": [
  {
   "cell_type": "code",
   "execution_count": 1,
   "metadata": {},
   "outputs": [],
   "source": [
    "import pandas as pd\n",
    "import numpy as np\n",
    "import csv"
   ]
  },
  {
   "cell_type": "code",
   "execution_count": 2,
   "metadata": {},
   "outputs": [],
   "source": [
    "#do not print warnings\n",
    "pd.options.mode.chained_assignment = None"
   ]
  },
  {
   "cell_type": "code",
   "execution_count": 6,
   "metadata": {},
   "outputs": [],
   "source": [
    "reviews_pre = pd.read_csv(\"reviews_clean.csv\")\n",
    "reviews_id = pd.read_csv(\"review_select.csv\")\n",
    "\n",
    "reviews_pre['business_id']=reviews_id['business_id']\n",
    "reviews_pre.to_csv('reviews_clean_wiz_id.csv',index=False)"
   ]
  },
  {
   "cell_type": "code",
   "execution_count": 7,
   "metadata": {},
   "outputs": [],
   "source": [
    "reviews = pd.read_csv('reviews_clean_wiz_id.csv')"
   ]
  },
  {
   "cell_type": "code",
   "execution_count": 16,
   "metadata": {},
   "outputs": [
    {
     "data": {
      "text/html": [
       "<div>\n",
       "<style scoped>\n",
       "    .dataframe tbody tr th:only-of-type {\n",
       "        vertical-align: middle;\n",
       "    }\n",
       "\n",
       "    .dataframe tbody tr th {\n",
       "        vertical-align: top;\n",
       "    }\n",
       "\n",
       "    .dataframe thead th {\n",
       "        text-align: right;\n",
       "    }\n",
       "</style>\n",
       "<table border=\"1\" class=\"dataframe\">\n",
       "  <thead>\n",
       "    <tr style=\"text-align: right;\">\n",
       "      <th></th>\n",
       "      <th>Unnamed: 0</th>\n",
       "      <th>text</th>\n",
       "      <th>stars</th>\n",
       "      <th>business_id</th>\n",
       "    </tr>\n",
       "  </thead>\n",
       "  <tbody>\n",
       "    <tr>\n",
       "      <th>0</th>\n",
       "      <td>0</td>\n",
       "      <td>first admit not excite go la tavolta food snob...</td>\n",
       "      <td>4.0</td>\n",
       "      <td>eU_713ec6fTGNO4BegRaww</td>\n",
       "    </tr>\n",
       "    <tr>\n",
       "      <th>1</th>\n",
       "      <td>1</td>\n",
       "      <td>walk around friday afternoon sit table bar wal...</td>\n",
       "      <td>1.0</td>\n",
       "      <td>mRUVMJkUGxrByzMQ2MuOpA</td>\n",
       "    </tr>\n",
       "    <tr>\n",
       "      <th>2</th>\n",
       "      <td>2</td>\n",
       "      <td>not really find anything wrong place pastas pi...</td>\n",
       "      <td>5.0</td>\n",
       "      <td>YvrylyuWgbP90RgMqZQVnQ</td>\n",
       "    </tr>\n",
       "    <tr>\n",
       "      <th>3</th>\n",
       "      <td>3</td>\n",
       "      <td>great lunch today staff helpful assist selecti...</td>\n",
       "      <td>4.0</td>\n",
       "      <td>NyLYY8q1-H3hfsTwuwLPCg</td>\n",
       "    </tr>\n",
       "    <tr>\n",
       "      <th>4</th>\n",
       "      <td>4</td>\n",
       "      <td>good selection class beers mains twice first t...</td>\n",
       "      <td>3.0</td>\n",
       "      <td>y-Iw6dZflNix4BdwIyTNGA</td>\n",
       "    </tr>\n",
       "  </tbody>\n",
       "</table>\n",
       "</div>"
      ],
      "text/plain": [
       "   Unnamed: 0                                               text  stars  \\\n",
       "0           0  first admit not excite go la tavolta food snob...    4.0   \n",
       "1           1  walk around friday afternoon sit table bar wal...    1.0   \n",
       "2           2  not really find anything wrong place pastas pi...    5.0   \n",
       "3           3  great lunch today staff helpful assist selecti...    4.0   \n",
       "4           4  good selection class beers mains twice first t...    3.0   \n",
       "\n",
       "              business_id  \n",
       "0  eU_713ec6fTGNO4BegRaww  \n",
       "1  mRUVMJkUGxrByzMQ2MuOpA  \n",
       "2  YvrylyuWgbP90RgMqZQVnQ  \n",
       "3  NyLYY8q1-H3hfsTwuwLPCg  \n",
       "4  y-Iw6dZflNix4BdwIyTNGA  "
      ]
     },
     "execution_count": 16,
     "metadata": {},
     "output_type": "execute_result"
    }
   ],
   "source": [
    "reviews.head()"
   ]
  },
  {
   "cell_type": "code",
   "execution_count": 11,
   "metadata": {},
   "outputs": [],
   "source": [
    "biz_all=pd.read_csv('biz_fast_food_features.csv')"
   ]
  },
  {
   "cell_type": "code",
   "execution_count": 14,
   "metadata": {},
   "outputs": [],
   "source": [
    "biz_owners=biz_all.loc[:,'bussiness_id']"
   ]
  },
  {
   "cell_type": "code",
   "execution_count": 182,
   "metadata": {},
   "outputs": [
    {
     "data": {
      "text/plain": [
       "0        1Dfx3zM-rW4n-31KeC8sJg\n",
       "1        fweCYi8FmbJXHCqLnwuk8w\n",
       "2        1RHY4K3BD22FK7Cfftn8Mg\n",
       "3        NDuUMJfrWk52RA-H-OtrpA\n",
       "4        kANF0dbeoW34s2vwh6Umfw\n",
       "5        qJeSjOMgWB3er3UXG33ZVw\n",
       "6        bJP4l_BGq2CudEu0m-wNjg\n",
       "7        WlArCYe6xCzOe5u2Lt1how\n",
       "8        jScBTQtdAt-8RshaiBEHgw\n",
       "9        jwHtNvHBPafiAwM92jM8yA\n",
       "10       v7ZFEEqJBg_r8NCwHRP_2A\n",
       "11       5WMIvoMx3l1vn1uJ3HZB6Q\n",
       "12       T_tnCsUQmqTMEI3XxJAyOA\n",
       "13       FDEm-c3NAXnTVtl-hgzAhA\n",
       "14       y-1sMhUMubrHWdIW4FaE8w\n",
       "15       rVBPQdeayMYht4Uv_FOLHg\n",
       "16       CPgz4srKkE5u9aoBAOaQsA\n",
       "17       d9ftOq9cPFsicPSasP-IRw\n",
       "18       TTVwcuc1Nz4ZSZH4wnbxKQ\n",
       "19       sRLczTc6OHuttVSanRfHaw\n",
       "20       dUffgo9Lh_Vk9TLuFR5ywg\n",
       "21       q4P3WHwC0lFafwvTlkKMIw\n",
       "22       vg4ynLZ0yJ89pT4s_CEMzQ\n",
       "23       e-9f6vasnWh3z0uOq287Aw\n",
       "24       9uhXxFrTR58KVD5fq1ua3Q\n",
       "25       Tuu_B0QGo7SQUuXW_Nd4hg\n",
       "26       ItmLljzhwhuyyvekNs4Ymg\n",
       "27       U1iF2RC18uBgBe01z5BMXw\n",
       "28       El6Bum4I-0VWJRgzbtscJQ\n",
       "29       QZ4GFIArBMGolsVi0XHgcA\n",
       "                  ...          \n",
       "16511    Dm3FhqAGvW1HpHelydP-Ag\n",
       "16512    HsS34pXt9SAmaRa2aByNpw\n",
       "16513    4revUiH2pE65iffL13LNMQ\n",
       "16514    03W4GFc3Ll01kxI7BPxRww\n",
       "16515    V84XKSe9gMmky0sh1If_dA\n",
       "16516    7w9GpK5BJZY94sbfK__oDw\n",
       "16517    KkBVK02iqsPJTEotHhWo1g\n",
       "16518    NClVosSyO7LJaQ2WYLLnYw\n",
       "16519    8c2ObImjXJ9pW0hUccL35A\n",
       "16520    NN7OUdRxgkoUvpI440UA7A\n",
       "16521    Ce5Y_Xl_A-QCilf5_3mkSw\n",
       "16522    7k_urmcvNGuNX8PQQ4H1QA\n",
       "16523    RXWoXbo18akMt9tV4bLktA\n",
       "16524    EsE8KTPqAJ2MjJdmuAifRw\n",
       "16525    soQEl35sQuARBOlH1Y6MaQ\n",
       "16526    3xI0ToitrAJkrUSH4gbmCA\n",
       "16527    fLdLjrLfwWJ-hh4Uwz2zKA\n",
       "16528    NPFsOePej-_kfNsDf-SjpQ\n",
       "16529    P8uECqGqXWTwEndkh-6bQw\n",
       "16530    _r-OvLO5wqncmsBCg3i0qw\n",
       "16531    p5rpYtxS5xPQjt3MXYVEwA\n",
       "16532    _T5qyfILFJOPJDB4BHDWTA\n",
       "16533    I3dQmMkfqMsThMAuqIkooA\n",
       "16534    3L4VPQXH3ni8IsuJLnd74g\n",
       "16535    6KyDIOGT9EAzq1w4kb77ow\n",
       "16536    HoWtPWPDWT8tkErlW4j-3A\n",
       "16537    ckc3l8cSuggloG4NlquEFQ\n",
       "16538    lq71ZTkANfb40sR0DAs6Rw\n",
       "16539    JsRt9LPgv-7guVcY4u6OQA\n",
       "16540    ghovD5ZTGDQ5Q2U4ERddWw\n",
       "Name: bussiness_id, Length: 16541, dtype: object"
      ]
     },
     "execution_count": 182,
     "metadata": {},
     "output_type": "execute_result"
    }
   ],
   "source": [
    "#biz_owners"
   ]
  },
  {
   "cell_type": "code",
   "execution_count": 64,
   "metadata": {},
   "outputs": [],
   "source": [
    "def find_reviews(biz_id):\n",
    "    reviews_spe = pd.DataFrame(columns=['Unnamed: 0', 'text', 'stars', 'business_id'])\n",
    "    for i in range(reviews.shape[0]):\n",
    "        id = reviews.loc[:,'business_id'][i]\n",
    "        stars =reviews.loc[:,'stars'][i]\n",
    "        if (not id==biz_id) or (stars==3) or (stars==4) or (stars==5):\n",
    "            continue\n",
    "        reviews_spe=reviews_spe.append(reviews.iloc[i,])\n",
    "    return reviews_spe"
   ]
  },
  {
   "cell_type": "code",
   "execution_count": 165,
   "metadata": {},
   "outputs": [],
   "source": [
    "def score_of_words(reviews,words):\n",
    "    num_of_words=len(words)\n",
    "    reviews_text=reviews.loc[:,\"text\"]\n",
    "    reviews_text=pd.Series(reviews_text)\n",
    "    scores=list()\n",
    "    \n",
    "    for j in range(num_of_words):\n",
    "        score_of_one=list()\n",
    "        for i in range(len(reviews_text)):\n",
    "            score_of_one.append(list(reviews_text)[i].split().count(words[j])/len(list(reviews_text)[i].split()))  \n",
    "        scores.append(sum(score_of_one)/len(score_of_one))\n",
    "        \n",
    "    return sum(scores)/len(scores)"
   ]
  },
  {
   "cell_type": "code",
   "execution_count": 169,
   "metadata": {},
   "outputs": [
    {
     "data": {
      "text/plain": [
       "0.005892255892255892"
      ]
     },
     "execution_count": 169,
     "metadata": {},
     "output_type": "execute_result"
    }
   ],
   "source": [
    "time_words=[\"time\",\"slow\",\"wait\"]\n",
    "#score_of_words(reviews_spe,time_words)"
   ]
  },
  {
   "cell_type": "code",
   "execution_count": 171,
   "metadata": {},
   "outputs": [
    {
     "data": {
      "text/plain": [
       "0.001111111111111111"
      ]
     },
     "execution_count": 171,
     "metadata": {},
     "output_type": "execute_result"
    }
   ],
   "source": [
    "service_words=[\"rude\",\"disappoint\",\"unprofessional\",\"understaffed\",\"insolent\",\"inattentive\",\"disorganized\",\"incompetent\",\"disrespectful\",\"unfriendly\"]\n",
    "#score_of_words(reviews_spe,service_words)"
   ]
  },
  {
   "cell_type": "code",
   "execution_count": 178,
   "metadata": {},
   "outputs": [
    {
     "data": {
      "text/plain": [
       "0.00039682539682539677"
      ]
     },
     "execution_count": 178,
     "metadata": {},
     "output_type": "execute_result"
    }
   ],
   "source": [
    "food_words=[\"salty\",\"greasy\",\"oily\",\"overcook\",\"bland\",\"overdo\",\"vinegary\",\"soggy\",\"fatty\",\"undercooked\",\"oversauced\",\"underseasoned\",\"bland\",\"dry\"]\n",
    "#score_of_words(reviews_spe,food_words)"
   ]
  },
  {
   "cell_type": "code",
   "execution_count": 179,
   "metadata": {},
   "outputs": [
    {
     "data": {
      "text/plain": [
       "0.0"
      ]
     },
     "execution_count": 179,
     "metadata": {},
     "output_type": "execute_result"
    }
   ],
   "source": [
    "facility_words=[\"toilet\",\"restroom\",\"bathroom\",\"floor\",\"machine\",\"tissue\",\"napkin\"]\n",
    "#score_of_words(reviews_spe,facility_words)"
   ]
  },
  {
   "cell_type": "code",
   "execution_count": 180,
   "metadata": {},
   "outputs": [
    {
     "data": {
      "text/plain": [
       "0.0009259259259259259"
      ]
     },
     "execution_count": 180,
     "metadata": {},
     "output_type": "execute_result"
    }
   ],
   "source": [
    "envir_words=[\"dirty\",\"filthy\",\"unclear\",\"grimy\",\"sticky\",\"unwiped\",\"messy\",\"smelly\"]\n",
    "#score_of_words(reviews_spe,envir_words)"
   ]
  },
  {
   "cell_type": "code",
   "execution_count": null,
   "metadata": {},
   "outputs": [],
   "source": []
  },
  {
   "cell_type": "code",
   "execution_count": null,
   "metadata": {},
   "outputs": [],
   "source": [
    "att_time=list()\n",
    "for i in range(len(biz_owners)):\n",
    "    reviews_spe=find_reviews(biz_owners[i])\n",
    "    att_time.append(score_of_words(reviews_spe,time_words))"
   ]
  },
  {
   "cell_type": "code",
   "execution_count": null,
   "metadata": {},
   "outputs": [],
   "source": [
    "att_time"
   ]
  },
  {
   "cell_type": "code",
   "execution_count": null,
   "metadata": {},
   "outputs": [],
   "source": []
  }
 ],
 "metadata": {
  "kernelspec": {
   "display_name": "Python 3",
   "language": "python",
   "name": "python3"
  },
  "language_info": {
   "codemirror_mode": {
    "name": "ipython",
    "version": 3
   },
   "file_extension": ".py",
   "mimetype": "text/x-python",
   "name": "python",
   "nbconvert_exporter": "python",
   "pygments_lexer": "ipython3",
   "version": "3.7.0"
  }
 },
 "nbformat": 4,
 "nbformat_minor": 2
}
