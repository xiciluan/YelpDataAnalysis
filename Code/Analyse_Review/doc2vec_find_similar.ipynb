{
 "nbformat": 4,
 "nbformat_minor": 2,
 "metadata": {
  "language_info": {
   "name": "python",
   "codemirror_mode": {
    "name": "ipython",
    "version": 3
   }
  },
  "orig_nbformat": 2,
  "file_extension": ".py",
  "mimetype": "text/x-python",
  "name": "python",
  "npconvert_exporter": "python",
  "pygments_lexer": "ipython3",
  "version": 3
 },
 "cells": [
  {
   "cell_type": "code",
   "execution_count": 13,
   "metadata": {},
   "outputs": [],
   "source": [
    "import pandas as pd  \n",
    "import numpy as np\n",
    "from sklearn.naive_bayes import MultinomialNB, BernoulliNB\n",
    "from sklearn.feature_extraction.text import TfidfVectorizer\n",
    "from sklearn.metrics import accuracy_score\n",
    "from sklearn.utils import shuffle\n",
    "import re\n",
    "from gensim import utils\n",
    "from gensim.models.doc2vec import LabeledSentence\n",
    "from gensim.models.doc2vec import TaggedDocument\n",
    "from gensim.models import Doc2Vec\n",
    "from sklearn.metrics.pairwise import cosine_similarity\n",
    "from sklearn.metrics import accuracy_score\n",
    "import multiprocessing\n",
    "from tqdm import tqdm\n"
   ]
  },
  {
   "cell_type": "code",
   "execution_count": 2,
   "metadata": {},
   "outputs": [
    {
     "data": {
      "text/html": "<div>\n<style scoped>\n    .dataframe tbody tr th:only-of-type {\n        vertical-align: middle;\n    }\n\n    .dataframe tbody tr th {\n        vertical-align: top;\n    }\n\n    .dataframe thead th {\n        text-align: right;\n    }\n</style>\n<table border=\"1\" class=\"dataframe\">\n  <thead>\n    <tr style=\"text-align: right;\">\n      <th></th>\n      <th>text</th>\n      <th>stars</th>\n    </tr>\n  </thead>\n  <tbody>\n    <tr>\n      <th>0</th>\n      <td>first admit not excite go la tavolta food snob...</td>\n      <td>4.0</td>\n    </tr>\n    <tr>\n      <th>1</th>\n      <td>walk around friday afternoon sit table bar wal...</td>\n      <td>1.0</td>\n    </tr>\n    <tr>\n      <th>2</th>\n      <td>not really find anything wrong place pastas pi...</td>\n      <td>5.0</td>\n    </tr>\n    <tr>\n      <th>3</th>\n      <td>great lunch today staff helpful assist selecti...</td>\n      <td>4.0</td>\n    </tr>\n    <tr>\n      <th>4</th>\n      <td>good selection class beers mains twice first t...</td>\n      <td>3.0</td>\n    </tr>\n  </tbody>\n</table>\n</div>",
      "text/plain": "                                                text  stars\n0  first admit not excite go la tavolta food snob...    4.0\n1  walk around friday afternoon sit table bar wal...    1.0\n2  not really find anything wrong place pastas pi...    5.0\n3  great lunch today staff helpful assist selecti...    4.0\n4  good selection class beers mains twice first t...    3.0"
     },
     "execution_count": 2,
     "metadata": {},
     "output_type": "execute_result"
    }
   ],
   "source": [
    "csv = 'reviews_clean.csv'\n",
    "my_df = pd.read_csv(csv,index_col=0)\n",
    "my_df.head()"
   ]
  },
  {
   "cell_type": "code",
   "execution_count": 3,
   "metadata": {},
   "outputs": [
    {
     "name": "stdout",
     "output_type": "stream",
     "text": "<class 'pandas.core.frame.DataFrame'>\nRangeIndex: 864530 entries, 0 to 864529\nData columns (total 2 columns):\ntext     864530 non-null object\nstars    864530 non-null float64\ndtypes: float64(1), object(1)\nmemory usage: 13.2+ MB\n"
    }
   ],
   "source": [
    "my_df.dropna(inplace=True)\n",
    "my_df.reset_index(drop=True,inplace=True)\n",
    "my_df.info()"
   ]
  },
  {
   "cell_type": "code",
   "execution_count": 4,
   "metadata": {},
   "outputs": [],
   "source": [
    "x = my_df.text\n",
    "y = my_df.stars"
   ]
  },
  {
   "cell_type": "code",
   "execution_count": 5,
   "metadata": {},
   "outputs": [],
   "source": [
    "tvec = TfidfVectorizer(max_features=5000)\n",
    "tvec.fit(my_df['text'])\n",
    "x_tfidf = tvec.transform(my_df['text'])\n",
    "# print(tvec.vocabulary_)"
   ]
  },
  {
   "cell_type": "code",
   "execution_count": 6,
   "metadata": {},
   "outputs": [
    {
     "data": {
      "text/plain": "MultinomialNB(alpha=1.0, class_prior=None, fit_prior=True)"
     },
     "execution_count": 6,
     "metadata": {},
     "output_type": "execute_result"
    }
   ],
   "source": [
    "nb_model = MultinomialNB()\n",
    "nb_model.fit(x_tfidf, y)"
   ]
  },
  {
   "cell_type": "code",
   "execution_count": 56,
   "metadata": {},
   "outputs": [],
   "source": [
    "nb_predictions = nb_model.predict(x_tfidf)\n",
    "# print(\"Naive Bayes Accuracy Score -> \",accuracy_score(nb_predictions, y)*100)"
   ]
  },
  {
   "cell_type": "code",
   "execution_count": 8,
   "metadata": {},
   "outputs": [
    {
     "name": "stderr",
     "output_type": "stream",
     "text": "/anaconda3/lib/python3.7/site-packages/ipykernel_launcher.py:5: DeprecationWarning: Call to deprecated `LabeledSentence` (Class will be removed in 4.0.0, use TaggedDocument instead).\n  \"\"\"\n"
    }
   ],
   "source": [
    "def labelize_tweets_ug(tweets,label):\n",
    "    result = []\n",
    "    prefix = label\n",
    "    for i, t in zip(tweets.index, tweets):\n",
    "        result.append(LabeledSentence(t.split(), [prefix + '_%s' % i]))\n",
    "    return result\n",
    "\n",
    "all_x_w2v = labelize_tweets_ug(x, 'all')"
   ]
  },
  {
   "cell_type": "code",
   "execution_count": 14,
   "metadata": {},
   "outputs": [
    {
     "name": "stderr",
     "output_type": "stream",
     "text": "100%|██████████| 864530/864530 [00:00<00:00, 2423670.32it/s]\n"
    }
   ],
   "source": [
    "cores = multiprocessing.cpu_count()\n",
    "model_ug_dmc = Doc2Vec(dm=1, dm_concat=1, size=100, window=2, negative=5, min_count=2, workers=cores, alpha=0.065, min_alpha=0.065)\n",
    "model_ug_dmc.build_vocab([x for x in tqdm(all_x_w2v)])"
   ]
  },
  {
   "cell_type": "code",
   "execution_count": 15,
   "metadata": {},
   "outputs": [
    {
     "name": "stderr",
     "output_type": "stream",
     "text": "100%|██████████| 864530/864530 [00:00<00:00, 3267853.40it/s]\n100%|██████████| 864530/864530 [00:00<00:00, 3112766.05it/s]\n100%|██████████| 864530/864530 [00:00<00:00, 3027852.49it/s]\n100%|██████████| 864530/864530 [00:00<00:00, 3234670.88it/s]\n100%|██████████| 864530/864530 [00:00<00:00, 3269002.36it/s]\n100%|██████████| 864530/864530 [00:00<00:00, 2966541.55it/s]\n100%|██████████| 864530/864530 [00:00<00:00, 3414835.98it/s]\n100%|██████████| 864530/864530 [00:00<00:00, 3075318.28it/s]\n100%|██████████| 864530/864530 [00:00<00:00, 3084909.75it/s]\n100%|██████████| 864530/864530 [00:00<00:00, 3481628.00it/s]\n100%|██████████| 864530/864530 [00:00<00:00, 3549802.19it/s]\n100%|██████████| 864530/864530 [00:00<00:00, 3473041.24it/s]\n100%|██████████| 864530/864530 [00:00<00:00, 3446055.57it/s]\n100%|██████████| 864530/864530 [00:00<00:00, 3290425.58it/s]\n100%|██████████| 864530/864530 [00:00<00:00, 3372628.38it/s]\n100%|██████████| 864530/864530 [00:00<00:00, 3353883.67it/s]\n100%|██████████| 864530/864530 [00:00<00:00, 2969259.80it/s]\n100%|██████████| 864530/864530 [00:00<00:00, 2998644.31it/s]\n100%|██████████| 864530/864530 [00:00<00:00, 3739039.32it/s]\n100%|██████████| 864530/864530 [00:00<00:00, 1593944.78it/s]\n100%|██████████| 864530/864530 [00:00<00:00, 2858610.47it/s]\n100%|██████████| 864530/864530 [00:00<00:00, 2721820.37it/s]\n100%|██████████| 864530/864530 [00:00<00:00, 3355823.60it/s]\n100%|██████████| 864530/864530 [00:00<00:00, 1753109.38it/s]\n100%|██████████| 864530/864530 [00:00<00:00, 2882745.38it/s]\n100%|██████████| 864530/864530 [00:00<00:00, 3379313.73it/s]\n100%|██████████| 864530/864530 [00:00<00:00, 3557474.40it/s]\n100%|██████████| 864530/864530 [00:00<00:00, 3226086.29it/s]\n100%|██████████| 864530/864530 [00:00<00:00, 3047574.48it/s]\n100%|██████████| 864530/864530 [00:00<00:00, 2984824.12it/s]\n"
    }
   ],
   "source": [
    "for epoch in range(30):\n",
    "    model_ug_dmc.train(shuffle([x for x in tqdm(all_x_w2v)]), total_examples=len(all_x_w2v), epochs=1)\n",
    "    model_ug_dmc.alpha -= 0.002\n",
    "    model_ug_dmc.min_alpha = model_ug_dmc.alpha"
   ]
  },
  {
   "cell_type": "code",
   "execution_count": 16,
   "metadata": {},
   "outputs": [],
   "source": [
    "model_ug_dmc.save('d2v_model_ug_dmc.doc2vec')\n",
    "model_ug_dmc = Doc2Vec.load('d2v_model_ug_dmc.doc2vec')"
   ]
  },
  {
   "cell_type": "code",
   "execution_count": 17,
   "metadata": {},
   "outputs": [
    {
     "name": "stderr",
     "output_type": "stream",
     "text": "/anaconda3/lib/python3.7/site-packages/ipykernel_launcher.py:1: DeprecationWarning: Call to deprecated `most_similar` (Method will be removed in 4.0.0, use self.wv.most_similar() instead).\n  \"\"\"Entry point for launching an IPython kernel.\n"
    },
    {
     "data": {
      "text/plain": "[('great', 0.7834584712982178),\n ('awesome', 0.7669825553894043),\n ('amaze', 0.7517189979553223),\n ('terrific', 0.728622555732727),\n ('excellent', 0.7282618284225464),\n ('incredible', 0.7237319946289062),\n ('outstanding', 0.7165056467056274),\n ('fantastic', 0.7058401107788086),\n ('fabulous', 0.7038179039955139),\n ('delicious', 0.7003250122070312)]"
     },
     "execution_count": 17,
     "metadata": {},
     "output_type": "execute_result"
    }
   ],
   "source": [
    "model_ug_dmc.most_similar('good')"
   ]
  },
  {
   "cell_type": "code",
   "execution_count": 18,
   "metadata": {},
   "outputs": [
    {
     "name": "stderr",
     "output_type": "stream",
     "text": "/anaconda3/lib/python3.7/site-packages/ipykernel_launcher.py:1: DeprecationWarning: Call to deprecated `most_similar` (Method will be removed in 4.0.0, use self.wv.most_similar() instead).\n  \"\"\"Entry point for launching an IPython kernel.\n"
    },
    {
     "data": {
      "text/plain": "[('garlic', 0.7286983728408813),\n ('truffled', 0.7102000713348389),\n ('cajun', 0.6667969822883606),\n ('trufle', 0.655715823173523),\n ('garluc', 0.6231197118759155),\n ('telleggio', 0.6226471662521362),\n ('suicide', 0.6222496032714844),\n ('galric', 0.6217901706695557),\n ('french', 0.6211013197898865),\n ('asiago', 0.6209801435470581)]"
     },
     "execution_count": 18,
     "metadata": {},
     "output_type": "execute_result"
    }
   ],
   "source": [
    "model_ug_dmc.most_similar('truffle')"
   ]
  },
  {
   "cell_type": "code",
   "execution_count": 22,
   "metadata": {},
   "outputs": [
    {
     "name": "stderr",
     "output_type": "stream",
     "text": "/anaconda3/lib/python3.7/site-packages/ipykernel_launcher.py:1: DeprecationWarning: Call to deprecated `most_similar` (Method will be removed in 4.0.0, use self.wv.most_similar() instead).\n  \"\"\"Entry point for launching an IPython kernel.\n"
    },
    {
     "data": {
      "text/plain": "[('loud', 0.867179811000824),\n ('hectic', 0.7589107751846313),\n ('cramp', 0.7433356046676636),\n ('noisey', 0.7396436929702759),\n ('rowdy', 0.7214796543121338),\n ('chaotic', 0.6943398714065552),\n ('garrish', 0.6683323383331299),\n ('congest', 0.66129469871521),\n ('crowd', 0.6584668755531311),\n ('busy', 0.6558099985122681)]"
     },
     "execution_count": 22,
     "metadata": {},
     "output_type": "execute_result"
    }
   ],
   "source": [
    "model_ug_dmc.most_similar('noisy')"
   ]
  },
  {
   "cell_type": "code",
   "execution_count": 23,
   "metadata": {},
   "outputs": [
    {
     "name": "stderr",
     "output_type": "stream",
     "text": "/anaconda3/lib/python3.7/site-packages/ipykernel_launcher.py:1: DeprecationWarning: Call to deprecated `most_similar` (Method will be removed in 4.0.0, use self.wv.most_similar() instead).\n  \"\"\"Entry point for launching an IPython kernel.\n"
    },
    {
     "data": {
      "text/plain": "[('terrible', 0.7330342531204224),\n ('horrible', 0.6986491680145264),\n ('aout', 0.6849514245986938),\n ('badd', 0.6782817840576172),\n ('poor', 0.655217170715332),\n ('awful', 0.6214576959609985),\n ('good', 0.6200417876243591),\n ('lousy', 0.6163746118545532),\n ('unmissable', 0.6094075441360474),\n ('shitty', 0.5988847017288208)]"
     },
     "execution_count": 23,
     "metadata": {},
     "output_type": "execute_result"
    }
   ],
   "source": [
    "model_ug_dmc.most_similar('bad')"
   ]
  },
  {
   "cell_type": "code",
   "execution_count": 21,
   "metadata": {},
   "outputs": [
    {
     "name": "stderr",
     "output_type": "stream",
     "text": "/anaconda3/lib/python3.7/site-packages/ipykernel_launcher.py:1: DeprecationWarning: Call to deprecated `most_similar` (Method will be removed in 4.0.0, use self.wv.most_similar() instead).\n  \"\"\"Entry point for launching an IPython kernel.\n"
    },
    {
     "data": {
      "text/plain": "[('avacado', 0.8558058142662048),\n ('jalapenos', 0.7609074711799622),\n ('guacamole', 0.734514594078064),\n ('pineapple', 0.7290098667144775),\n ('prosciutto', 0.7194356918334961),\n ('bacon', 0.7095621824264526),\n ('cilantro', 0.6944547295570374),\n ('ham', 0.6935070157051086),\n ('avocados', 0.6919876337051392),\n ('cuc', 0.6896876692771912)]"
     },
     "execution_count": 21,
     "metadata": {},
     "output_type": "execute_result"
    }
   ],
   "source": [
    "model_ug_dmc.most_similar('avocado')"
   ]
  },
  {
   "cell_type": "code",
   "execution_count": 24,
   "metadata": {},
   "outputs": [
    {
     "name": "stderr",
     "output_type": "stream",
     "text": "/anaconda3/lib/python3.7/site-packages/ipykernel_launcher.py:1: DeprecationWarning: Call to deprecated `most_similar` (Method will be removed in 4.0.0, use self.wv.most_similar() instead).\n  \"\"\"Entry point for launching an IPython kernel.\n"
    },
    {
     "data": {
      "text/plain": "[('bathroom', 0.6078024506568909),\n ('toliet', 0.6061931848526001),\n ('tissue', 0.6043602228164673),\n ('alsp', 0.5717312693595886),\n ('parchment', 0.5563274621963501),\n ('soap', 0.5523649454116821),\n ('toilets', 0.5482754111289978),\n ('restroom', 0.5459871292114258),\n ('whitout', 0.5351422429084778),\n ('urinal', 0.5248912572860718)]"
     },
     "execution_count": 24,
     "metadata": {},
     "output_type": "execute_result"
    }
   ],
   "source": [
    "model_ug_dmc.most_similar('toilet')"
   ]
  },
  {
   "cell_type": "code",
   "execution_count": 26,
   "metadata": {},
   "outputs": [
    {
     "name": "stderr",
     "output_type": "stream",
     "text": "/anaconda3/lib/python3.7/site-packages/ipykernel_launcher.py:1: DeprecationWarning: Call to deprecated `most_similar` (Method will be removed in 4.0.0, use self.wv.most_similar() instead).\n  \"\"\"Entry point for launching an IPython kernel.\n"
    },
    {
     "data": {
      "text/plain": "[('sustainable', 0.723642110824585),\n ('locally', 0.6479333639144897),\n ('source', 0.6410207748413086),\n ('halal', 0.6226398348808289),\n ('natural', 0.6219726204872131),\n ('groud', 0.6083687543869019),\n ('checkfresh', 0.590692400932312),\n ('gmo', 0.5891855359077454),\n ('beercat', 0.5880138874053955),\n ('local', 0.5876971483230591)]"
     },
     "execution_count": 26,
     "metadata": {},
     "output_type": "execute_result"
    }
   ],
   "source": [
    "model_ug_dmc.most_similar('organic')"
   ]
  },
  {
   "cell_type": "code",
   "execution_count": 44,
   "metadata": {},
   "outputs": [
    {
     "name": "stderr",
     "output_type": "stream",
     "text": "/anaconda3/lib/python3.7/site-packages/ipykernel_launcher.py:1: DeprecationWarning: Call to deprecated `most_similar` (Method will be removed in 4.0.0, use self.wv.most_similar() instead).\n  \"\"\"Entry point for launching an IPython kernel.\n"
    },
    {
     "data": {
      "text/plain": "[('inexpensive', 0.8349385857582092),\n ('affordable', 0.7634541392326355),\n ('cheep', 0.7321719527244568),\n ('expensive', 0.6124028563499451),\n ('healthy', 0.6088963150978088),\n ('spendy', 0.5893974304199219),\n ('unhealthy', 0.5869796276092529),\n ('babely', 0.5741486549377441),\n ('reasonable', 0.5647486448287964),\n ('cheapest', 0.55983567237854)]"
     },
     "execution_count": 44,
     "metadata": {},
     "output_type": "execute_result"
    }
   ],
   "source": [
    "model_ug_dmc.most_similar('cheap')"
   ]
  },
  {
   "cell_type": "code",
   "execution_count": 30,
   "metadata": {},
   "outputs": [
    {
     "name": "stderr",
     "output_type": "stream",
     "text": "/anaconda3/lib/python3.7/site-packages/ipykernel_launcher.py:1: DeprecationWarning: Call to deprecated `most_similar` (Method will be removed in 4.0.0, use self.wv.most_similar() instead).\n  \"\"\"Entry point for launching an IPython kernel.\n"
    },
    {
     "data": {
      "text/plain": "[('pancakes', 0.7315992116928101),\n ('crepe', 0.7205942273139954),\n ('cheesecake', 0.6569241285324097),\n ('milkshake', 0.6226840019226074),\n ('torta', 0.5992645025253296),\n ('frenchtoast', 0.5989701747894287),\n ('waffle', 0.5944867134094238),\n ('portals', 0.5836019515991211),\n ('oommmggg', 0.5797628164291382),\n ('mousse', 0.5750806331634521)]"
     },
     "execution_count": 30,
     "metadata": {},
     "output_type": "execute_result"
    }
   ],
   "source": [
    "model_ug_dmc.most_similar('pancake')"
   ]
  },
  {
   "cell_type": "code",
   "execution_count": 31,
   "metadata": {},
   "outputs": [
    {
     "name": "stderr",
     "output_type": "stream",
     "text": "/anaconda3/lib/python3.7/site-packages/ipykernel_launcher.py:1: DeprecationWarning: Call to deprecated `most_similar` (Method will be removed in 4.0.0, use self.wv.most_similar() instead).\n  \"\"\"Entry point for launching an IPython kernel.\n"
    },
    {
     "data": {
      "text/plain": "[('garluc', 0.7472913265228271),\n ('truffle', 0.7286984324455261),\n ('garloc', 0.7043008804321289),\n ('gsrlic', 0.6788638830184937),\n ('starsgarlic', 0.673371434211731),\n ('galic', 0.667336106300354),\n ('cinnamon', 0.6671755313873291),\n ('cheezey', 0.6643325090408325),\n ('garlc', 0.6634542346000671),\n ('herb', 0.6601952314376831)]"
     },
     "execution_count": 31,
     "metadata": {},
     "output_type": "execute_result"
    }
   ],
   "source": [
    "model_ug_dmc.most_similar('garlic')"
   ]
  },
  {
   "cell_type": "code",
   "execution_count": 34,
   "metadata": {},
   "outputs": [
    {
     "name": "stderr",
     "output_type": "stream",
     "text": "/anaconda3/lib/python3.7/site-packages/ipykernel_launcher.py:1: DeprecationWarning: Call to deprecated `most_similar` (Method will be removed in 4.0.0, use self.wv.most_similar() instead).\n  \"\"\"Entry point for launching an IPython kernel.\n"
    },
    {
     "data": {
      "text/plain": "[('waitstaff', 0.7390881776809692),\n ('arguementitive', 0.7033827304840088),\n ('unprofessional', 0.6949495077133179),\n ('sedum', 0.6853319406509399),\n ('effcient', 0.678861677646637),\n ('competant', 0.6784259080886841),\n ('bartenders', 0.6777243614196777),\n ('insolent', 0.6776140928268433),\n ('kiela', 0.676659882068634),\n ('knowelgable', 0.6706382036209106)]"
     },
     "execution_count": 34,
     "metadata": {},
     "output_type": "execute_result"
    }
   ],
   "source": [
    "model_ug_dmc.most_similar(['staff', 'rude'])"
   ]
  },
  {
   "cell_type": "code",
   "execution_count": 35,
   "metadata": {},
   "outputs": [
    {
     "name": "stderr",
     "output_type": "stream",
     "text": "/anaconda3/lib/python3.7/site-packages/ipykernel_launcher.py:1: DeprecationWarning: Call to deprecated `most_similar` (Method will be removed in 4.0.0, use self.wv.most_similar() instead).\n  \"\"\"Entry point for launching an IPython kernel.\n"
    },
    {
     "data": {
      "text/plain": "[('waut', 0.6780174970626831),\n ('chillidog', 0.6552867889404297),\n ('ittook', 0.6449674367904663),\n ('diaster', 0.6426888704299927),\n ('fastforward', 0.636142373085022),\n ('dissapears', 0.6352733373641968),\n ('impasse', 0.6351890563964844),\n ('waite', 0.6343010663986206),\n ('desapointed', 0.6252535581588745),\n ('tookas', 0.6134780049324036)]"
     },
     "execution_count": 35,
     "metadata": {},
     "output_type": "execute_result"
    }
   ],
   "source": [
    "model_ug_dmc.most_similar('wait')"
   ]
  },
  {
   "cell_type": "code",
   "execution_count": 36,
   "metadata": {},
   "outputs": [
    {
     "name": "stderr",
     "output_type": "stream",
     "text": "/anaconda3/lib/python3.7/site-packages/ipykernel_launcher.py:1: DeprecationWarning: Call to deprecated `most_similar` (Method will be removed in 4.0.0, use self.wv.most_similar() instead).\n  \"\"\"Entry point for launching an IPython kernel.\n"
    },
    {
     "data": {
      "text/plain": "[('pizza', 0.6852853298187256),\n ('hamburger', 0.655759334564209),\n ('surrealist', 0.6153266429901123),\n ('xgx', 0.6147144436836243),\n ('toplobster', 0.6052716970443726),\n ('alferdo', 0.6028608679771423),\n ('kdrbbig', 0.6025829911231995),\n ('tume', 0.6008009910583496),\n ('oommmggg', 0.5991754531860352),\n ('usmenuguide', 0.5977445840835571)]"
     },
     "execution_count": 36,
     "metadata": {},
     "output_type": "execute_result"
    }
   ],
   "source": [
    "model_ug_dmc.most_similar(['burger', 'impossible'])"
   ]
  },
  {
   "cell_type": "code",
   "execution_count": 37,
   "metadata": {},
   "outputs": [
    {
     "name": "stderr",
     "output_type": "stream",
     "text": "/anaconda3/lib/python3.7/site-packages/ipykernel_launcher.py:1: DeprecationWarning: Call to deprecated `most_similar` (Method will be removed in 4.0.0, use self.wv.most_similar() instead).\n  \"\"\"Entry point for launching an IPython kernel.\n"
    },
    {
     "data": {
      "text/plain": "[('bottle', 0.6409244537353516),\n ('sprits', 0.6106453537940979),\n ('withwhite', 0.6044120788574219),\n ('alkaline', 0.594031810760498),\n ('pitcher', 0.5862404108047485),\n ('badoit', 0.5823096036911011),\n ('hinterland', 0.5799775123596191),\n ('kirin', 0.5765917301177979),\n ('coors', 0.5752911567687988),\n ('embalm', 0.5736021995544434)]"
     },
     "execution_count": 37,
     "metadata": {},
     "output_type": "execute_result"
    }
   ],
   "source": [
    "model_ug_dmc.most_similar('sparkle')"
   ]
  },
  {
   "cell_type": "code",
   "execution_count": 38,
   "metadata": {},
   "outputs": [
    {
     "name": "stderr",
     "output_type": "stream",
     "text": "/anaconda3/lib/python3.7/site-packages/ipykernel_launcher.py:1: DeprecationWarning: Call to deprecated `most_similar` (Method will be removed in 4.0.0, use self.wv.most_similar() instead).\n  \"\"\"Entry point for launching an IPython kernel.\n"
    },
    {
     "data": {
      "text/plain": "[('draft', 0.7703471183776855),\n ('wine', 0.6967378258705139),\n ('hefeweisen', 0.6879545450210571),\n ('peroni', 0.6850576400756836),\n ('brouwerij', 0.6842464208602905),\n ('draught', 0.6729234457015991),\n ('rootbeer', 0.6687580943107605),\n ('soda', 0.6608607172966003),\n ('microbrasserie', 0.660210371017456),\n ('pnls', 0.6578246355056763)]"
     },
     "execution_count": 38,
     "metadata": {},
     "output_type": "execute_result"
    }
   ],
   "source": [
    "model_ug_dmc.most_similar(['root', 'beer'])"
   ]
  },
  {
   "cell_type": "code",
   "execution_count": 39,
   "metadata": {},
   "outputs": [
    {
     "name": "stderr",
     "output_type": "stream",
     "text": "/anaconda3/lib/python3.7/site-packages/ipykernel_launcher.py:1: DeprecationWarning: Call to deprecated `most_similar` (Method will be removed in 4.0.0, use self.wv.most_similar() instead).\n  \"\"\"Entry point for launching an IPython kernel.\n"
    },
    {
     "data": {
      "text/plain": "[('coke', 0.6155045032501221),\n ('guiness', 0.6096252799034119),\n ('cheerwine', 0.6074126958847046),\n ('watm', 0.6037907600402832),\n ('sundrop', 0.592220664024353),\n ('soda', 0.590106189250946),\n ('margaritas', 0.5832696557044983),\n ('terredora', 0.5822097659111023),\n ('rootbear', 0.5777513980865479),\n ('orangesicle', 0.5754582285881042)]"
     },
     "execution_count": 39,
     "metadata": {},
     "output_type": "execute_result"
    }
   ],
   "source": [
    "model_ug_dmc.most_similar('rootbeer')"
   ]
  },
  {
   "cell_type": "code",
   "execution_count": 42,
   "metadata": {},
   "outputs": [
    {
     "name": "stderr",
     "output_type": "stream",
     "text": "/anaconda3/lib/python3.7/site-packages/ipykernel_launcher.py:1: DeprecationWarning: Call to deprecated `most_similar` (Method will be removed in 4.0.0, use self.wv.most_similar() instead).\n  \"\"\"Entry point for launching an IPython kernel.\n"
    },
    {
     "data": {
      "text/plain": "[('blue', 0.8569976687431335),\n ('goat', 0.7580530643463135),\n ('pimento', 0.7245334386825562),\n ('fontina', 0.7224986553192139),\n ('feta', 0.7054100036621094),\n ('mac', 0.6765233278274536),\n ('blu', 0.6690124869346619),\n ('anatolian', 0.6682217121124268),\n ('swiss', 0.6648344993591309),\n ('gorgonzola', 0.66180020570755)]"
     },
     "execution_count": 42,
     "metadata": {},
     "output_type": "execute_result"
    }
   ],
   "source": [
    "model_ug_dmc.most_similar('bleu')"
   ]
  },
  {
   "cell_type": "code",
   "execution_count": 43,
   "metadata": {},
   "outputs": [
    {
     "name": "stderr",
     "output_type": "stream",
     "text": "/anaconda3/lib/python3.7/site-packages/ipykernel_launcher.py:1: DeprecationWarning: Call to deprecated `most_similar` (Method will be removed in 4.0.0, use self.wv.most_similar() instead).\n  \"\"\"Entry point for launching an IPython kernel.\n"
    },
    {
     "data": {
      "text/plain": "[('milkshake', 0.7045836448669434),\n ('mojito', 0.6726048588752747),\n ('lemonade', 0.6669729948043823),\n ('sundae', 0.6608996391296387),\n ('bingsu', 0.6474591493606567),\n ('mimosa', 0.6382846832275391),\n ('poptart', 0.636228084564209),\n ('shiva', 0.6299512386322021),\n ('lasse', 0.6298040747642517),\n ('sorbet', 0.6214242577552795)]"
     },
     "execution_count": 43,
     "metadata": {},
     "output_type": "execute_result"
    }
   ],
   "source": [
    "model_ug_dmc.most_similar('smoothie')"
   ]
  },
  {
   "cell_type": "code",
   "execution_count": 54,
   "metadata": {},
   "outputs": [
    {
     "name": "stderr",
     "output_type": "stream",
     "text": "/anaconda3/lib/python3.7/site-packages/ipykernel_launcher.py:1: DeprecationWarning: Call to deprecated `most_similar` (Method will be removed in 4.0.0, use self.wv.most_similar() instead).\n  \"\"\"Entry point for launching an IPython kernel.\n"
    },
    {
     "data": {
      "text/plain": "[('undercooked', 0.8836504817008972),\n ('overdo', 0.8363276720046997),\n ('underdone', 0.8045825958251953),\n ('rubbery', 0.7327951192855835),\n ('dry', 0.7217879891395569),\n ('mushy', 0.7167834043502808),\n ('underseasoned', 0.7003611922264099),\n ('bland', 0.6992430090904236),\n ('oily', 0.6963263154029846),\n ('oversauced', 0.694000244140625)]"
     },
     "execution_count": 54,
     "metadata": {},
     "output_type": "execute_result"
    }
   ],
   "source": [
    "model_ug_dmc.most_similar('overcook')"
   ]
  },
  {
   "cell_type": "code",
   "execution_count": 55,
   "metadata": {},
   "outputs": [
    {
     "name": "stderr",
     "output_type": "stream",
     "text": "/anaconda3/lib/python3.7/site-packages/ipykernel_launcher.py:1: DeprecationWarning: Call to deprecated `most_similar` (Method will be removed in 4.0.0, use self.wv.most_similar() instead).\n  \"\"\"Entry point for launching an IPython kernel.\n"
    },
    {
     "data": {
      "text/plain": "[('brunch', 0.8187921643257141),\n ('bfast', 0.7082738876342773),\n ('sushi', 0.6280872821807861),\n ('nepolitan', 0.6137786507606506),\n ('greatbreakfast', 0.6060608625411987),\n ('carnisata', 0.5845016241073608),\n ('brekky', 0.5796356797218323),\n ('dinner', 0.5726624727249146),\n ('morrito', 0.5654523372650146),\n ('satisfier', 0.5650569200515747)]"
     },
     "execution_count": 55,
     "metadata": {},
     "output_type": "execute_result"
    }
   ],
   "source": [
    "model_ug_dmc.most_similar('breakfast')"
   ]
  },
  {
   "cell_type": "code",
   "execution_count": 67,
   "metadata": {},
   "outputs": [
    {
     "data": {
      "text/plain": "3.5"
     },
     "execution_count": 67,
     "metadata": {},
     "output_type": "execute_result"
    }
   ],
   "source": [
    "def findSpeed(length, speed, pos):\n",
    "    for num in pos:\n",
    "        speed[num] += 10\n",
    "    return sum(length[i]/speed[i] for i in range(len(speed)))\n",
    " "
   ]
  },
  {
   "cell_type": "code",
   "execution_count": 69,
   "metadata": {},
   "outputs": [
    {
     "data": {
      "text/plain": "43.35593220338983"
     },
     "execution_count": 69,
     "metadata": {},
     "output_type": "execute_result"
    }
   ],
   "source": [
    "findSpeed([1000,1000,99,99],[50,50,49,49],[2,3])"
   ]
  },
  {
   "cell_type": "code",
   "execution_count": 70,
   "metadata": {},
   "outputs": [
    {
     "data": {
      "text/plain": "37.37414965986395"
     },
     "execution_count": 70,
     "metadata": {},
     "output_type": "execute_result"
    }
   ],
   "source": [
    "findSpeed([1000,1000,99,99],[50,50,49,49],[0,1])"
   ]
  },
  {
   "cell_type": "code",
   "execution_count": null,
   "metadata": {},
   "outputs": [],
   "source": []
  }
 ]
}